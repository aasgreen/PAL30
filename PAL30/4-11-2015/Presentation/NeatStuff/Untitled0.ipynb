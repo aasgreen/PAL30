{
 "metadata": {
  "name": ""
 },
 "nbformat": 3,
 "nbformat_minor": 0,
 "worksheets": [
  {
   "cells": [
    {
     "cell_type": "code",
     "collapsed": false,
     "input": [
      "class test:\n",
      "    def __init__(self,l,d):\n",
      "        self.figs = f\n",
      "        self.des = d\n",
      "    def writet():\n",
      "        "
     ],
     "language": "python",
     "metadata": {},
     "outputs": []
    }
   ],
   "metadata": {}
  }
 ]
}