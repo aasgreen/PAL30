{
 "metadata": {
  "name": "",
  "signature": "sha256:4c3abc39083341a0828c704411b7312e591624e4bbf5b240b4ddfa3617700927"
 },
 "nbformat": 3,
 "nbformat_minor": 0,
 "worksheets": [
  {
   "cells": [
    {
     "cell_type": "code",
     "collapsed": false,
     "input": [
      "%matplotlib inline\n",
      "import matplotlib as mpl\n",
      "import matplotlib.pyplot as plt\n",
      "import glob\n",
      "import numpy as np\n",
      "\n",
      "# Optionally, tweak styles.\n",
      "mpl.rc('figure',  figsize=(10, 6))\n",
      "mpl.rc('image', cmap='gray')\n"
     ],
     "language": "python",
     "metadata": {},
     "outputs": [],
     "prompt_number": 4
    },
    {
     "cell_type": "heading",
     "level": 2,
     "metadata": {},
     "source": [
      "Import Data for Feature F1"
     ]
    },
    {
     "cell_type": "code",
     "collapsed": false,
     "input": [
      "data = [np.loadtxt(name,unpack=True) for name in glob.glob(\"f1*\")]    "
     ],
     "language": "python",
     "metadata": {},
     "outputs": []
    }
   ],
   "metadata": {}
  }
 ]
}