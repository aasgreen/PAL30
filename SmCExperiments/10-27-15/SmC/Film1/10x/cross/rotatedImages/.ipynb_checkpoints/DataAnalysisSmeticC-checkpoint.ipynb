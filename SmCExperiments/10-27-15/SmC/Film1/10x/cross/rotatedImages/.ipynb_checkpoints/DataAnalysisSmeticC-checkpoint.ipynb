{
 "metadata": {
  "name": "",
  "signature": "sha256:bb2f17c86b5fe51b66220d9335d8d3edb86692b52474f7ad259edefaa44a749a"
 },
 "nbformat": 3,
 "nbformat_minor": 0,
 "worksheets": [
  {
   "cells": [
    {
     "cell_type": "code",
     "collapsed": false,
     "input": [
      "%matplotlib inline\n",
      "import matplotlib as mpl\n",
      "import matplotlib.pyplot as plt\n",
      "import glob\n",
      "import numpy as np\n",
      "\n",
      "# Optionally, tweak styles.\n",
      "mpl.rc('figure',  figsize=(10, 6))\n",
      "mpl.rc('image', cmap='gray')\n"
     ],
     "language": "python",
     "metadata": {},
     "outputs": [],
     "prompt_number": 6
    },
    {
     "cell_type": "heading",
     "level": 2,
     "metadata": {},
     "source": [
      "Import Data for Feature F1"
     ]
    },
    {
     "cell_type": "code",
     "collapsed": false,
     "input": [
      "data = [(np.loadtxt(name,unpack=True), name) for name in glob.glob(\"f1*\")]    "
     ],
     "language": "python",
     "metadata": {},
     "outputs": [],
     "prompt_number": 7
    },
    {
     "cell_type": "code",
     "collapsed": false,
     "input": [
      "glob.glob('f1*')"
     ],
     "language": "python",
     "metadata": {},
     "outputs": [
      {
       "metadata": {},
       "output_type": "pyout",
       "prompt_number": 9,
       "text": [
        "[]"
       ]
      }
     ],
     "prompt_number": 9
    },
    {
     "cell_type": "code",
     "collapsed": false,
     "input": [
      "ls"
     ],
     "language": "python",
     "metadata": {},
     "outputs": [
      {
       "output_type": "stream",
       "stream": "stdout",
       "text": [
        "DataAnalysisSmeticC.ipynb\r\n",
        "\u001b[0m\u001b[01;35mrotated-Rot100-Pol90-Ex350-LEDMax.tif\u001b[0m\r\n",
        "\u001b[01;35mrotated-Rot105-Pol90-Ex350-LEDMax(MovedAperature).tif\u001b[0m\r\n",
        "\u001b[01;35mrotated-Rot110-Pol90-Ex350-LEDMax.tif\u001b[0m\r\n",
        "\u001b[01;35mrotated-Rot115-Pol90-Ex350-LEDMax(ReFocused).tif\u001b[0m\r\n",
        "\u001b[01;35mrotated-Rot120-Pol90-Ex350-LEDMax(ReFocused).tif\u001b[0m\r\n",
        "\u001b[01;35mrotated-Rot125-Pol90-Ex350-LEDMax(ReFocused).tif\u001b[0m\r\n",
        "\u001b[01;35mrotated-Rot130-Pol90-Ex350-LEDMaxReDo.tif\u001b[0m\r\n",
        "\u001b[01;35mrotated-Rot135-Pol90-Ex350-LEDMaxReDo.tif\u001b[0m\r\n",
        "\u001b[01;35mrotated-Rot140-Pol90-Ex350-LEDMaxReDo.tif\u001b[0m\r\n",
        "\u001b[01;35mrotated-Rot145-Pol90-Ex350-LEDMaxReDo.tif\u001b[0m\r\n",
        "\u001b[01;35mrotated-Rot150-Pol90-Ex350-LEDMaxReDo.tif\u001b[0m\r\n",
        "\u001b[01;35mrotated-Rot155-Pol90-Ex350-LEDMaxReDo.tif\u001b[0m\r\n",
        "\u001b[01;35mrotated-Rot160-Pol90-Ex350-LEDMaxReDo.tif\u001b[0m\r\n",
        "\u001b[01;35mrotated-Rot165-Pol90-Ex350-LEDMaxReDo.tif\u001b[0m\r\n",
        "\u001b[01;35mrotated-Rot170-Pol90-Ex350-LEDMaxReDo.tif\u001b[0m\r\n",
        "\u001b[01;35mrotated-Rot175-Pol90-Ex350-LEDMaxReDo.tif\u001b[0m\r\n",
        "\u001b[01;35mrotated-Rot180-Pol90-Ex350-LEDMaxReDo2.tif\u001b[0m\r\n",
        "\u001b[01;35mrotated-Rot180-Pol90-Ex350-LEDMaxReDo.tif\u001b[0m\r\n",
        "\u001b[01;35mrotated-Rot185-Pol90-Ex350-LEDMaxReDo.tif\u001b[0m\r\n",
        "\u001b[01;35mrotated-Rot190-Pol90-Ex350-LEDMaxReDo.tif\u001b[0m\r\n",
        "\u001b[01;35mrotated-Rot195-Pol90-Ex350-LEDMaxReDo.tif\u001b[0m\r\n",
        "\u001b[01;35mrotated-Rot200-Pol90-Ex350-LEDMaxReDo.tif\u001b[0m\r\n",
        "\u001b[01;35mrotated-Rot205-Pol90-Ex350-LEDMaxReDo.tif\u001b[0m\r\n",
        "\u001b[01;35mrotated-Rot210-Pol90-Ex350-LEDMaxReDo2(Better).tif\u001b[0m\r\n",
        "\u001b[01;35mrotated-Rot210-Pol90-Ex350-LEDMaxReDo.tif\u001b[0m\r\n",
        "\u001b[01;35mrotated-Rot215-Pol90-Ex350-LEDMaxReDo.tif\u001b[0m\r\n",
        "\u001b[01;35mrotated-Rot220-Pol90-Ex350-LEDMaxReDo.tif\u001b[0m\r\n",
        "\u001b[01;35mrotated-Rot225-Pol90-Ex350-LEDMaxReDo.tif\u001b[0m\r\n",
        "\u001b[01;35mrotated-Rot230-Pol90-Ex350-LEDMaxReDo.tif\u001b[0m\r\n",
        "\u001b[01;35mrotated-Rot235-Pol90-Ex350-LEDMaxReDo.tif\u001b[0m\r\n",
        "\u001b[01;35mrotated-Rot240-Pol90-Ex350-LEDMaxReDo.tif\u001b[0m\r\n",
        "\u001b[01;35mrotated-Rot245-Pol90-Ex350-LEDMaxReDo.tif\u001b[0m\r\n",
        "\u001b[01;35mrotated-Rot250-Pol90-Ex350-LEDMaxReDo.tif\u001b[0m\r\n",
        "\u001b[01;35mrotated-Rot255-Pol90-Ex350-LEDMaxReDo.tif\u001b[0m\r\n",
        "\u001b[01;35mrotated-Rot260-Pol90-Ex350-LEDMaxReDo.tif\u001b[0m\r\n",
        "\u001b[01;35mrotated-Rot265-Pol90-Ex350-LEDMaxReDo.tif\u001b[0m\r\n",
        "\u001b[01;35mrotated-Rot270-Pol90-Ex350-LEDMaxReDo.tif\u001b[0m\r\n",
        "\u001b[01;35mrotated-Rot275-Pol90-Ex350-LEDMaxReDo.tif\u001b[0m\r\n",
        "\u001b[01;35mrotated-Rot280-Pol90-Ex350-LEDMaxReDo.tif\u001b[0m\r\n",
        "\u001b[01;35mrotated-Rot91.5-Pol90-Ex350-LEDMaxReDo(time2h).tif\u001b[0m\r\n",
        "\u001b[01;35mrotated-Rot91d5-Pol90-Ex350-LEDMax.tif\u001b[0m\r\n",
        "\u001b[01;35mrotated-Rot95d5-Pol90-Ex350-LEDMax.tif\u001b[0m\r\n"
       ]
      }
     ],
     "prompt_number": 10
    },
    {
     "cell_type": "code",
     "collapsed": false,
     "input": [],
     "language": "python",
     "metadata": {},
     "outputs": []
    }
   ],
   "metadata": {}
  }
 ]
}